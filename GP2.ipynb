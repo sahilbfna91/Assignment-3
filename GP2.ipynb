{
  "nbformat": 4,
  "nbformat_minor": 0,
  "metadata": {
    "colab": {
      "name": "GP2.ipynb",
      "provenance": [],
      "collapsed_sections": []
    },
    "kernelspec": {
      "name": "python3",
      "display_name": "Python 3"
    },
    "language_info": {
      "name": "python"
    },
    "accelerator": "GPU"
  },
  "cells": [
    {
      "cell_type": "code",
      "execution_count": null,
      "metadata": {
        "colab": {
          "base_uri": "https://localhost:8080/"
        },
        "id": "ePvEa75h8mnM",
        "outputId": "1c309f2c-277a-48b9-ce42-cebaffbf69a9"
      },
      "outputs": [
        {
          "output_type": "stream",
          "name": "stdout",
          "text": [
            "TensorFlow 1.x selected.\n",
            "\u001b[K     |████████████████████████████████| 497.5 MB 24 kB/s \n",
            "\u001b[K     |████████████████████████████████| 5.8 MB 52.6 MB/s \n",
            "\u001b[K     |████████████████████████████████| 1.4 MB 54.0 MB/s \n",
            "\u001b[K     |████████████████████████████████| 462 kB 32.3 MB/s \n",
            "\u001b[?25h  Building wheel for gpt-2-simple (setup.py) ... \u001b[?25l\u001b[?25hdone\n"
          ]
        }
      ],
      "source": [
        "import os\n",
        "import pandas as pd\n",
        "\n",
        "%tensorflow_version 1.x\n",
        "\n",
        "try:\n",
        "  import gpt_2_simple as gpt2\n",
        "except:\n",
        "  !pip3 -q install gpt-2-simple\n",
        "  import gpt_2_simple as gpt2"
      ]
    },
    {
      "cell_type": "code",
      "source": [
        "dfs = []\n",
        "link = ('something-QueryResult_{}.csv')\n",
        "for i in range(2,3):\n",
        "  dfs.append(pd.read_csv(link.format(i)))\n",
        "\n",
        "df = pd.concat(dfs).reset_index(drop=True)"
      ],
      "metadata": {
        "id": "HjlJeiyZ9KfZ"
      },
      "execution_count": null,
      "outputs": []
    },
    {
      "cell_type": "code",
      "source": [
        "df"
      ],
      "metadata": {
        "colab": {
          "base_uri": "https://localhost:8080/",
          "height": 424
        },
        "id": "UwWetCMv3UJG",
        "outputId": "a3a82cc5-f308-4ca5-b7e4-03f5cbd00a0b"
      },
      "execution_count": null,
      "outputs": [
        {
          "output_type": "execute_result",
          "data": {
            "text/plain": [
              "                                                lyrics\n",
              "0                  Baby, let me blow your mind tonight\n",
              "1       What happens to that body, it's a private show\n",
              "2          I like 'em untamed, don't tell me high pain\n",
              "3                        It's smoking, we both know it\n",
              "4                        Then one of us gets too drunk\n",
              "..                                                 ...\n",
              "974  Hmm, yeah yeah Baby, please try to forgive me ...\n",
              "975  When you come back I won't be here She said an...\n",
              "976  You've got me wide open, wide open Now I'm you...\n",
              "977  I've been to Paris, made my way down to Rome S...\n",
              "978  I saw you on the corner You look happy, happie...\n",
              "\n",
              "[979 rows x 1 columns]"
            ],
            "text/html": [
              "\n",
              "  <div id=\"df-5000256a-d75f-43fd-a8f1-2756f3a38887\">\n",
              "    <div class=\"colab-df-container\">\n",
              "      <div>\n",
              "<style scoped>\n",
              "    .dataframe tbody tr th:only-of-type {\n",
              "        vertical-align: middle;\n",
              "    }\n",
              "\n",
              "    .dataframe tbody tr th {\n",
              "        vertical-align: top;\n",
              "    }\n",
              "\n",
              "    .dataframe thead th {\n",
              "        text-align: right;\n",
              "    }\n",
              "</style>\n",
              "<table border=\"1\" class=\"dataframe\">\n",
              "  <thead>\n",
              "    <tr style=\"text-align: right;\">\n",
              "      <th></th>\n",
              "      <th>lyrics</th>\n",
              "    </tr>\n",
              "  </thead>\n",
              "  <tbody>\n",
              "    <tr>\n",
              "      <th>0</th>\n",
              "      <td>Baby, let me blow your mind tonight</td>\n",
              "    </tr>\n",
              "    <tr>\n",
              "      <th>1</th>\n",
              "      <td>What happens to that body, it's a private show</td>\n",
              "    </tr>\n",
              "    <tr>\n",
              "      <th>2</th>\n",
              "      <td>I like 'em untamed, don't tell me high pain</td>\n",
              "    </tr>\n",
              "    <tr>\n",
              "      <th>3</th>\n",
              "      <td>It's smoking, we both know it</td>\n",
              "    </tr>\n",
              "    <tr>\n",
              "      <th>4</th>\n",
              "      <td>Then one of us gets too drunk</td>\n",
              "    </tr>\n",
              "    <tr>\n",
              "      <th>...</th>\n",
              "      <td>...</td>\n",
              "    </tr>\n",
              "    <tr>\n",
              "      <th>974</th>\n",
              "      <td>Hmm, yeah yeah Baby, please try to forgive me ...</td>\n",
              "    </tr>\n",
              "    <tr>\n",
              "      <th>975</th>\n",
              "      <td>When you come back I won't be here She said an...</td>\n",
              "    </tr>\n",
              "    <tr>\n",
              "      <th>976</th>\n",
              "      <td>You've got me wide open, wide open Now I'm you...</td>\n",
              "    </tr>\n",
              "    <tr>\n",
              "      <th>977</th>\n",
              "      <td>I've been to Paris, made my way down to Rome S...</td>\n",
              "    </tr>\n",
              "    <tr>\n",
              "      <th>978</th>\n",
              "      <td>I saw you on the corner You look happy, happie...</td>\n",
              "    </tr>\n",
              "  </tbody>\n",
              "</table>\n",
              "<p>979 rows × 1 columns</p>\n",
              "</div>\n",
              "      <button class=\"colab-df-convert\" onclick=\"convertToInteractive('df-5000256a-d75f-43fd-a8f1-2756f3a38887')\"\n",
              "              title=\"Convert this dataframe to an interactive table.\"\n",
              "              style=\"display:none;\">\n",
              "        \n",
              "  <svg xmlns=\"http://www.w3.org/2000/svg\" height=\"24px\"viewBox=\"0 0 24 24\"\n",
              "       width=\"24px\">\n",
              "    <path d=\"M0 0h24v24H0V0z\" fill=\"none\"/>\n",
              "    <path d=\"M18.56 5.44l.94 2.06.94-2.06 2.06-.94-2.06-.94-.94-2.06-.94 2.06-2.06.94zm-11 1L8.5 8.5l.94-2.06 2.06-.94-2.06-.94L8.5 2.5l-.94 2.06-2.06.94zm10 10l.94 2.06.94-2.06 2.06-.94-2.06-.94-.94-2.06-.94 2.06-2.06.94z\"/><path d=\"M17.41 7.96l-1.37-1.37c-.4-.4-.92-.59-1.43-.59-.52 0-1.04.2-1.43.59L10.3 9.45l-7.72 7.72c-.78.78-.78 2.05 0 2.83L4 21.41c.39.39.9.59 1.41.59.51 0 1.02-.2 1.41-.59l7.78-7.78 2.81-2.81c.8-.78.8-2.07 0-2.86zM5.41 20L4 18.59l7.72-7.72 1.47 1.35L5.41 20z\"/>\n",
              "  </svg>\n",
              "      </button>\n",
              "      \n",
              "  <style>\n",
              "    .colab-df-container {\n",
              "      display:flex;\n",
              "      flex-wrap:wrap;\n",
              "      gap: 12px;\n",
              "    }\n",
              "\n",
              "    .colab-df-convert {\n",
              "      background-color: #E8F0FE;\n",
              "      border: none;\n",
              "      border-radius: 50%;\n",
              "      cursor: pointer;\n",
              "      display: none;\n",
              "      fill: #1967D2;\n",
              "      height: 32px;\n",
              "      padding: 0 0 0 0;\n",
              "      width: 32px;\n",
              "    }\n",
              "\n",
              "    .colab-df-convert:hover {\n",
              "      background-color: #E2EBFA;\n",
              "      box-shadow: 0px 1px 2px rgba(60, 64, 67, 0.3), 0px 1px 3px 1px rgba(60, 64, 67, 0.15);\n",
              "      fill: #174EA6;\n",
              "    }\n",
              "\n",
              "    [theme=dark] .colab-df-convert {\n",
              "      background-color: #3B4455;\n",
              "      fill: #D2E3FC;\n",
              "    }\n",
              "\n",
              "    [theme=dark] .colab-df-convert:hover {\n",
              "      background-color: #434B5C;\n",
              "      box-shadow: 0px 1px 3px 1px rgba(0, 0, 0, 0.15);\n",
              "      filter: drop-shadow(0px 1px 2px rgba(0, 0, 0, 0.3));\n",
              "      fill: #FFFFFF;\n",
              "    }\n",
              "  </style>\n",
              "\n",
              "      <script>\n",
              "        const buttonEl =\n",
              "          document.querySelector('#df-5000256a-d75f-43fd-a8f1-2756f3a38887 button.colab-df-convert');\n",
              "        buttonEl.style.display =\n",
              "          google.colab.kernel.accessAllowed ? 'block' : 'none';\n",
              "\n",
              "        async function convertToInteractive(key) {\n",
              "          const element = document.querySelector('#df-5000256a-d75f-43fd-a8f1-2756f3a38887');\n",
              "          const dataTable =\n",
              "            await google.colab.kernel.invokeFunction('convertToInteractive',\n",
              "                                                     [key], {});\n",
              "          if (!dataTable) return;\n",
              "\n",
              "          const docLinkHtml = 'Like what you see? Visit the ' +\n",
              "            '<a target=\"_blank\" href=https://colab.research.google.com/notebooks/data_table.ipynb>data table notebook</a>'\n",
              "            + ' to learn more about interactive tables.';\n",
              "          element.innerHTML = '';\n",
              "          dataTable['output_type'] = 'display_data';\n",
              "          await google.colab.output.renderOutput(dataTable, element);\n",
              "          const docLink = document.createElement('div');\n",
              "          docLink.innerHTML = docLinkHtml;\n",
              "          element.appendChild(docLink);\n",
              "        }\n",
              "      </script>\n",
              "    </div>\n",
              "  </div>\n",
              "  "
            ]
          },
          "metadata": {},
          "execution_count": 4
        }
      ]
    },
    {
      "cell_type": "code",
      "source": [
        "if not os.path.exists('content'):\n",
        "    os.makedirs('content')\n",
        "  \n",
        "pd.DataFrame({\"lyrics\": df['lyrics']})\\\n",
        "    .to_csv(os.path.join('content', 'lyrics.csv'), index=False)"
      ],
      "metadata": {
        "id": "mZGb1inP9nT6"
      },
      "execution_count": null,
      "outputs": []
    },
    {
      "cell_type": "code",
      "source": [
        "for model_name in [\"124M\"]:  # Choose from [\"124M\",\"355M\",\"774M\"]\n",
        "    gpt2.download_gpt2(model_name=model_name)  "
      ],
      "metadata": {
        "colab": {
          "base_uri": "https://localhost:8080/"
        },
        "id": "np47Dagg9vbn",
        "outputId": "698c2f4c-4029-4fdb-811f-a863edd56e0e"
      },
      "execution_count": null,
      "outputs": [
        {
          "output_type": "stream",
          "name": "stderr",
          "text": [
            "Fetching checkpoint: 1.05Mit [00:00, 750Mit/s]                                                      \n",
            "Fetching encoder.json: 1.05Mit [00:01, 581kit/s]\n",
            "Fetching hparams.json: 1.05Mit [00:00, 817Mit/s]                                                    \n",
            "Fetching model.ckpt.data-00000-of-00001: 498Mit [01:07, 7.42Mit/s]                                  \n",
            "Fetching model.ckpt.index: 1.05Mit [00:00, 393Mit/s]                                                \n",
            "Fetching model.ckpt.meta: 1.05Mit [00:01, 867kit/s]\n",
            "Fetching vocab.bpe: 1.05Mit [00:01, 746kit/s]\n"
          ]
        }
      ]
    },
    {
      "cell_type": "code",
      "source": [
        "learning_rate = 0.0001\n",
        "optimizer = 'sgd' # adam or sgd\n",
        "batch_size = 1\n",
        "model_name = \"124M\" # Has to match one downloaded locally\n",
        "sess = gpt2.start_tf_sess()"
      ],
      "metadata": {
        "id": "mGArwvj6-dAP"
      },
      "execution_count": null,
      "outputs": []
    },
    {
      "cell_type": "code",
      "source": [
        "gpt2.finetune(sess,\n",
        "              'content/lyrics.csv',\n",
        "              model_name=model_name,\n",
        "              sample_every=50,\n",
        "              save_every=50,\n",
        "              print_every=10,\n",
        "              learning_rate=learning_rate,\n",
        "              batch_size=batch_size,\n",
        "              restore_from='latest',\n",
        "              steps=100)   # max number of training steps"
      ],
      "metadata": {
        "colab": {
          "base_uri": "https://localhost:8080/"
        },
        "id": "8oLvpJjX-i8v",
        "outputId": "b0d7b317-3b47-4cee-b5bc-3ccffed32e31"
      },
      "execution_count": null,
      "outputs": [
        {
          "output_type": "stream",
          "name": "stdout",
          "text": [
            "Loading checkpoint models/124M/model.ckpt\n",
            "INFO:tensorflow:Restoring parameters from models/124M/model.ckpt\n",
            "Loading dataset...\n"
          ]
        },
        {
          "output_type": "stream",
          "name": "stderr",
          "text": [
            "100%|██████████| 1/1 [00:00<00:00, 195.11it/s]\n"
          ]
        },
        {
          "output_type": "stream",
          "name": "stdout",
          "text": [
            "dataset has 45327 tokens\n",
            "Training...\n",
            "[10 | 27.31] loss=2.15 avg=2.15\n",
            "[20 | 49.71] loss=1.88 avg=2.02\n",
            "[30 | 72.73] loss=1.67 avg=1.90\n",
            "[40 | 96.32] loss=1.50 avg=1.80\n",
            "[50 | 119.57] loss=1.20 avg=1.68\n",
            "Saving checkpoint/run1/model-50\n",
            "======== SAMPLE 1 ========\n",
            " Yeah, it just comes undone, I think I'd do anything for you  I'll be your guide, stay with me, let me save you I'll be your best friend, keep me around long term, baby, I can make you mine  I'll be your guide, stay with me, tell me everything's fine, yeah, yeah baby (baby), I know you like me, I like you, alright I'll be your guide, keep me around long term, yeah, yeah baby (baby)  I'll be your guide, stay with me, keep me around long term, yeah, yeah baby (baby), I know you like me, alright I'll be your guide, keep me around long term, yeah, yeah baby (baby)  I'll be your guide, keep me around long term, yeah. (keep me around long term)<|endoftext|>\n",
            "<|startoftext|>Who you gonna be?<|startoftext|>If we don't take these promises from you out of your hands, we'll never see you again  I'll see you through (I see you through) you know I'm the one lying to everyone  What are you gonna do to make me disappear? I got it coming and going, from moment to moment Everything you do to make me disappear I just can't seem to get enough  I wanna make you mine (Yeah I wanna make you mine)  I wanna make you mine (Here's the deal) I just can't seem to get enough  I just can't seem to get enough  I wanna make you my soul (Here's the deal) I just can't seem to get enough  We can't be undone You know that I'm here (I'm here) and when I'm in the zone I don't think about how many ways I can reach  Where do you come from, where do you wanna go? (How do you come from?)  I wanna make you mine I wanna make you mine Now I can't seem to get enough  What are you gonna do to make me disappear? (Oh yeah) I got it coming (Here's the deal) I just can't seem to get enough  I wish I could get it together (Here's the deal) I just can't seem to get enough  You made me do anything You made me wanna make things right  That's where you gonna go Baby I wish I could take your hand and take my life Yeah, right Where you gonna go  Tell me why all those years of hard work, and time spent searching for you, why it's still time to make it right  If I could make something of myself, then there could be no need to give In return for all that you still put into me What I need more than anything else  Are you with the right people in me? (Please do) Right now? (Hey hey, wanna do something) Are you with the right people in me? (Please do, can do)  I wish I could get it together  I wanna make you mine (Here's the deal) I just can't seem to get enough When I'm in the zone I don't think about how many ways I can reach  Where do you come from, where do you wanna go? (Can it be?) Where do you wanna go? (What do you come from?) All the way to our home In this dark place, I barely see It's hard to see right Now I just can't take it anymore  'Cause if I wasn't you I would know  Don't want you, oh don't want you  What do you come from? (Where do you come from?) What do you come from? (From that place? Where do you wanna go?) (From that place?)  Yeah, yeah, yeah Yeah, yeah  I wanna make you mine I wanna make you mine (Can it be?) I wanna make you mine I wanna make you mine (Can it be?) I wanna make you mine 'Cause I wanna make it right Or I wanna make it right, baby I wanna make it right Or I wanna make it right I wanna make it right Don't want you, oh don't want you Just wanna make you mine  I wanna make you mine I wanna make you mine (Can it be?) I wanna make you mine (Can it be?) I wanna make you<|endoftext|>\n",
            "<|startoftext|>Everytime I close my eyes I think about the girl I just met  I can feel her breath on my cheek Just imagine the feeling of holding you lovin' up like this  I can feel her breath on my cheek Just imagine the feeling of holding you lovin' up like this  If I could only make it through our first night together The first time I found out she was pregnant I would have undone the lipstick and made you mine I guess I wish I could tell her I'd had better things to do if I wanted to feel guilty \n",
            "\n",
            "[60 | 157.70] loss=1.24 avg=1.60\n",
            "[70 | 181.11] loss=0.89 avg=1.50\n",
            "[80 | 204.30] loss=0.93 avg=1.42\n",
            "[90 | 227.53] loss=0.65 avg=1.33\n",
            "[100 | 250.83] loss=0.76 avg=1.27\n",
            "Saving checkpoint/run1/model-100\n",
            "WARNING:tensorflow:From /usr/local/lib/python3.7/dist-packages/tensorflow/python/training/saver.py:1054: remove_checkpoint (from tensorflow.python.training.checkpoint_management) is deprecated and will be removed in a future version.\n",
            "Instructions for updating:\n",
            "Use standard file APIs to delete files with this prefix.\n"
          ]
        }
      ]
    },
    {
      "cell_type": "code",
      "source": [
        "\n"
      ],
      "metadata": {
        "id": "SfV9UbpfDFdL"
      },
      "execution_count": null,
      "outputs": []
    },
    {
      "cell_type": "code",
      "source": [
        "lst_results=gpt2.generate(\n",
        "    sess,\n",
        "    prefix=\"<|startoftext|>I love Deep Learning\",\n",
        "    nsamples=10,\n",
        "    temperature=0.8, # change me\n",
        "    top_p=0.9, # Change me\n",
        "    return_as_list=True,\n",
        "    truncate=\"<|endoftext|>\",\n",
        "    include_prefix=True\n",
        "    )\n",
        "\n",
        "for res in lst_results:\n",
        "  print(res)\n",
        "  print('\\n -------//------ \\n')"
      ],
      "metadata": {
        "colab": {
          "base_uri": "https://localhost:8080/"
        },
        "id": "HwNM18nZ-0Ap",
        "outputId": "fc5d0689-7761-46a5-be3c-da0b9234d386"
      },
      "execution_count": null,
      "outputs": [
        {
          "output_type": "stream",
          "name": "stdout",
          "text": [
            "<|startoftext|>I love Deep Learning Deep Learning is a very promising field when it comes to deep learning. It's a very good thing that we got some, if not the best, to go with the best of what we've got so far, if nothing else than the best of what we've got So far, so good Deep Learning has been very, very, very good for us, baby  I'm starting to like you Deep Learning is a very promising field when it comes to deep learning. It's a very good thing that we got some, if not the best, to go with the best of what we've got so far, if nothing else than the best of what we've got So far, so good Deep Learning has been very, very, very good for us, baby  We've got a lot going on in this world I've got a lot going on in this world Baby, we've got a lot going on In this world, we call it pleasure, baby  Deep Learning is a very promising field when it comes to deep learning. It's a very good thing that we got some, if not the best, to go with the best of what we've got so far, if nothing else than the best of what we've got So far, so good Deep Learning has been very, very, very good for us, baby  We've got a lot going on in this world I've got a lot going on In this world, we call it pleasure, baby  Deep Learning is a very promising field when it comes to deep learning. It's a very good thing that we got some, if not the best, to go with the best of what we've got so far, if nothing else than the best of what we've got So far, so good Deep Learning has been very, very, very good for us, baby  We've got a lot going on in this world I've got a lot going on In this world, we call it pleasure, baby  We've got a lot going on In this world, we call it pleasure Deep Learning is a very promising field when it comes to deep learning. It's a very good thing that we got some, if not the best, to go with the best of what we've got so far, if nothing else than the best of what we've got So far, so good Deep Learning has been very, very, very good for us, baby  We've got a lot going on in this world I've got a lot going on In this world, we call it pleasure, baby\n",
            "\n",
            " -------//------ \n",
            "\n",
            "<|startoftext|>I love Deep Learning It's a little crazy, I've never been so passionate about anything So far, so good I don't really care If it hurts my back, Shoulder to shoulder It could be the whole team  I've got so much more to learn Deep Learning is the hard way No matter how I try, I never, never, never give up  I'm so looking forward to this journey With the right people, with the right plans Deep Learning is going to be the best...  I'm so looking forward to this journey With the right people, with the right plans Deep Learning is going to be the best...  Deep Learning is going to be the best...\n",
            "\n",
            " -------//------ \n",
            "\n",
            "<|startoftext|>I love Deep Learning So much so fast I could do almost anything Yes I would do anything for one more chance Deep Learning Could be the gold standard for all artificial intelligence Researchers, set the bar high, and start to set Yes I would do anything for one more chance, yeah I would do anything for one more chance, yeah  Deep learning Could be the gold standard for all artificial intelligence Researchers, set the bar high, and start to set Yes I would do anything for one more chance, yeah I would do anything for one more chance, yeah  Deep learning Could be the gold standard for all artificial intelligence (AI) Researchers, set the bar high, and start to set Yes I would do anything for one more chance, yeah I would do anything for one more chance, yeah  Deep learning Could be the gold standard for all artificial intelligence (DAI) Researchers, set the bar high, and start to set Yes I would do anything for one more chance, yeah I would do anything for one more chance, yeah\n",
            "\n",
            " -------//------ \n",
            "\n",
            "<|startoftext|>I love Deep Learning How it makes you wanna press play I can see that it's a step behind you, but it makes me wanna press play  I can see it, it makes me wanna press play\n",
            "\n",
            " -------//------ \n",
            "\n",
            "<|startoftext|>I love Deep Learning. It's the gold standard in AI research right here in my lab. All of my research is done in it. Every part of my body is now a part of me. Every part of my body is now a part of me. Every single part of me. It's amazing. How it all just happened. And I'm so blown away by the reaction. I can't begin to imagine how much it means to me. It's so crazy. Deep Learning is a game that I'm playing right now. Every part of me is now a part of me. Every single part of me. It's amazing. Deep Learning is a game that I'm playing right now. Every part of me is now a part of me. Every single part of me. It's amazing. Deep Learning is a game that I'm playing right now. Every part of me is now a part of me. Every single part of me. Deep Learning is a game that I'm playing right now. Deep Learning is a game that I'm playing right now. Deep Learning is a game that I'm playing right now. Deep Learning is a game that I'm playing right now. Deep Learning is a game that I'm playing right now. Deep Learning is a game that I'm playing right now. Deep Learning is a game that I'm playing right now. Deep Learning is a game that I'm playing right now. Deep Learning is a game that I'm playing right now. Deep Learning is a game that I'm playing right now. Deep Learning is a game that I'm playing right now. Deep Learning is a game that I'm playing right now. Deep Learning is a game that I'm playing right now. Deep Learning is a game that I'm playing right now. Deep Learning is a game that I'm playing right now. Deep Learning is a game that I'm playing right now. Deep Learning is a game that I'm playing right now. Deep Learning is a game that I'm playing right now. Deep Learning is a game that I'm playing right now. Deep Learning is a game that I'm playing right now. Deep Learning is a game that I'm playing right now. Deep Learning is a game that I'm playing right now. Deep Learning is a game that I'm playing right now. Deep Learning is a game that I'm playing right now. Deep Learning is a game that I'm playing right now. Deep Learning is a game that I'm playing right now. Deep Learning is a game that I'm playing right now. Deep Learning is a game that I'm playing right now. Deep Learning is a game that I'm playing right now. Deep Learning is a game that I'm playing right now. Deep Learning is a game that I'm playing right now. Deep Learning is a game that I'm playing right now. Deep Learning is a game that I'm playing right now.\n",
            "\n",
            " -------//------ \n",
            "\n",
            "<|startoftext|>I love Deep Learning So hard to explain It's so crazy how fast I can fall out of love with the way it's being used The hype has already been blown And now I'm falling apart I can't believe how little I know  I've got so much to learn (my baby) How to stay ahead of the game The more I learn the better  Deep Learning is here and it won't stop The faster we can make our dreams come true  I've got so much to learn (my baby) How to stay ahead of the game The more I learn the better  Deep Learning is here and it won't stop The more I learn the better  Deep Learning is here and it won't stop The more I learn the better  Deep Learning is here and it won't stop The more I learn the better  Deep Learning is here and it won't stop The more I learn the better  Deep Learning is here and it won't stop The more I learn the better\n",
            "\n",
            " -------//------ \n",
            "\n",
            "<|startoftext|>I love Deep Learning So many ways to it Could be one of those gifts You got me, I'll always remember You got me, I'll always remember  Deep Learning Could be one of those gifts You got me, I'll always remember You got me, I'll always remember  Deep Learning Could be one of those gifts You got me, I'll always remember You got me, I'll always remember\n",
            "\n",
            " -------//------ \n",
            "\n",
            "<|startoftext|>I love Deep Learning, yeah Deep Learning, yeah Deep Learning, yeah Deep Learning, yeah Deep Learning, yeah Deep Learning, yeah Deep Learning, yeah Deep Learning, yeah Deep Learning, yeah Deep Learning, yeah Deep Learning, yeah Deep Learning, yeah Deep Learning, yeah Deep Learning, yeah Deep Learning, yeah Deep Learning, yeah Deep Learning, yeah Deep Learning, yeah Deep Learning, yeah Deep Learning, yeah Deep Learning, yeah Deep Learning, yeah Deep Learning, yeah Deep Learning, yeah Deep Learning, yeah Deep Learning, yeah Deep Learning, yeah Deep Learning, yeah Deep Learning, yeah Deep Learning, yeah Deep Learning, yeah Deep Learning, yeah Deep Learning, yeah Deep Learning, yeah Deep Learning, yeah Deep Learning, yeah Deep Learning, yeah Deep Learning, yeah Deep Learning, yeah Deep Learning, yeah Deep Learning, yeah Deep Learning, yeah Deep Learning, yeah Deep Learning, yeah Deep Learning, yeah Deep Learning, yeah Deep Learning, yeah Deep Learning, yeah Deep Learning, yeah Deep Learning, yeah Deep Learning, yeah Deep Learning, yeah Deep Learning, yeah Deep Learning, yeah Deep Learning, yeah Deep Learning, yeah Deep Learning, yeah Deep Learning, yeah Deep Learning, yeah Deep Learning, yeah Deep Learning, yeah Deep Learning, yeah Deep Learning, yeah Deep Learning, yeah Deep Learning, yeah Deep Learning, yeah Deep Learning, yeah Deep Learning, yeah Deep Learning, yeah Deep Learning, yeah Deep Learning, yeah Deep Learning, yeah Deep Learning, yeah Deep Learning, yeah Deep Learning, yeah Deep Learning, yeah Deep Learning, yeah Deep Learning, yeah Deep Learning, yeah Deep Learning, yeah Deep Learning, yeah Deep Learning, yeah Deep Learning, yeah Deep Learning, yeah Deep Learning, yeah Deep Learning, yeah Deep Learning, yeah Deep Learning, yeah Deep Learning, yeah Deep Learning, yeah Deep Learning, yeah Deep Learning, yeah Deep Learning, yeah Deep Learning, yeah Deep Learning, yeah Deep Learning, yeah Deep Learning, yeah Deep Learning, yeah Deep Learning, yeah Deep Learning, yeah Deep Learning, yeah Deep Learning, yeah Deep Learning, yeah Deep Learning, yeah Deep Learning, yeah Deep Learning, yeah Deep Learning, yeah Deep Learning, yeah Deep Learning, yeah Deep Learning, yeah Deep Learning, yeah Deep Learning, yeah Deep Learning, yeah Deep Learning, yeah Deep Learning, yeah Deep Learning, yeah Deep Learning, yeah Deep Learning, yeah Deep Learning, yeah Deep Learning, yeah Deep Learning, yeah Deep Learning, yeah Deep Learning, yeah\n",
            "\n",
            " -------//------ \n",
            "\n",
            "<|startoftext|>I love Deep Learning How to get the most out of them How to get the most out of them  Deep Learning Deep Learning is a deep learning (Deep Learning Anywhere) program that can be used to fine tune the way you see us, so that you will grow and understand how we can make the world a better place How to get the most out of them Deep Learning Deep Learning is a deep learning (Deep Learning Anywhere) program that can be used to fine tune the way you see us, so that you will grow and understand how we can make the world a better place  I know there's no magic number on the app store, but I promise you it's gonna be ten thousand. How can I make it so crazy make it ten thousand? Ten thousand? Ten thousand? Ten thousand? Ten thousand?  I'm gonna keep you in the dark About the app store, about the Deep Learning hype, about the hype for Deep Learning How can I make it so crazy make it ten thousand? Ten thousand? Ten thousand? Ten thousand? Ten thousand? Ten thousand? Ten thousand? Ten thousand? Ten thousand? Ten thousand? Ten thousand? Ten thousand? Ten thousand? Ten thousand? Ten thousand? Ten thousand? Ten thousand? Ten thousand? Ten thousand? Ten thousand? Ten thousand? Ten thousand? Ten thousand? Ten thousand? Ten thousand? Ten thousand? Ten thousand? Ten thousand? Ten thousand? Ten thousand? Ten thousand? Ten thousand? Ten thousand? Ten thousand? Ten thousand? Ten thousand? Ten thousand? Ten thousand? Ten thousand? Ten thousand? Ten thousand? Ten thousand? Ten thousand? Ten thousand? Ten thousand? Ten thousand? Ten thousand? Ten thousand? Ten thousand? Ten thousand? Ten thousand? Ten thousand? Ten thousand? Ten thousand? Ten thousand? Ten thousand? Ten thousand? Ten thousand? Ten thousand? Ten thousand? Ten thousand? Ten thousand? Ten thousand? Ten thousand? Ten thousand? Ten thousand? Ten thousand? Ten thousand? Ten thousand? Ten thousand? Ten thousand? Ten thousand? Ten thousand? Ten thousand? Ten thousand? Ten thousand? Ten thousand? Ten thousand? Ten thousand? Ten thousand? Ten thousand? Ten thousand? Ten thousand? Ten thousand? Ten thousand? Ten thousand? Ten thousand? Ten thousand? Ten thousand? Ten thousand? Ten thousand? Ten thousand? Ten thousand? Ten thousand? Ten thousand? Ten thousand? Ten thousand? Ten thousand? Ten thousand? Ten thousand? Ten thousand? Ten thousand? Ten thousand? Ten thousand? Ten thousand? Ten thousand? Ten thousand? Ten thousand? Ten thousand? Ten thousand? Ten thousand? Ten thousand? Ten thousand? Ten thousand? Ten thousand? Ten thousand? Ten thousand? Ten thousand? Ten thousand? Ten thousand? Ten thousand? Ten thousand? Ten thousand? Ten thousand? Ten thousand? Ten thousand? Ten thousand? Ten thousand? Ten thousand? Ten thousand? Ten thousand? Ten thousand? Ten thousand? Ten thousand? Ten thousand? Ten thousand? Ten thousand? Ten thousand? Ten thousand? Ten thousand? Ten thousand? Ten thousand? Ten thousand? Ten thousand? Ten thousand? Ten thousand? Ten thousand? Ten thousand? Ten thousand? Ten thousand? Ten thousand? Ten thousand? Ten thousand? Ten thousand? Ten thousand? Ten thousand? Ten thousand? Ten thousand? Ten thousand? Ten thousand? Ten thousand? Ten thousand? Ten thousand? Ten thousand? Ten thousand? Ten thousand? Ten thousand? Ten thousand? Ten thousand? Ten thousand? Ten thousand? Ten thousand? Ten thousand? Ten thousand? Ten thousand? Ten thousand? Ten thousand? Ten thousand? Ten thousand? Ten thousand? Ten thousand? Ten thousand? Ten thousand? Ten thousand? Ten thousand? Ten thousand? Ten thousand? Ten thousand? Ten thousand? Ten thousand? Ten thousand? Ten thousand? Ten thousand? Ten thousand? Ten thousand? Ten thousand? Ten thousand? Ten thousand? Ten thousand? Ten thousand? Ten thousand? Ten thousand? Ten thousand? Ten thousand? Ten thousand? Ten thousand? Ten thousand? Ten thousand? Ten thousand? Ten thousand? Ten thousand? Ten thousand? Ten thousand? Ten thousand? Ten thousand? Ten thousand? Ten thousand? Ten thousand? Ten thousand? Ten thousand? Ten thousand? Ten thousand? Ten thousand? Ten thousand? Ten thousand? Ten thousand? Ten thousand? Ten thousand? Ten thousand? Ten thousand? Ten thousand? Ten thousand? Ten thousand? Ten thousand? Ten thousand? Ten thousand? Ten thousand? Ten thousand? Ten thousand? Ten thousand? Ten thousand? Ten thousand? Ten thousand? Ten thousand? Ten thousand? Ten thousand? Ten thousand? Ten thousand? Ten thousand? Ten thousand? Ten thousand? Ten thousand? Ten thousand? Ten thousand? Ten thousand? Ten thousand? Ten thousand? Ten thousand? Ten thousand? Ten thousand? Ten thousand? Ten thousand? Ten thousand? Ten thousand? Ten thousand? Ten thousand? Ten thousand? Ten thousand? Ten thousand? Ten thousand? Ten thousand? Ten thousand?\n",
            "\n",
            " -------//------ \n",
            "\n",
            "<|startoftext|>I love Deep Learning Deep Learning is the next big thing in computing. It will make us faster, it will make us smarter, it will make us smarter every day. It's the next big thing, it's the way that we make sense of the world. It's the only way that we can make sense of the world. Every single part of the world. It's the only thing that I can do, I can't, I can't, I can't. It's the only thing that I can do, I can't, I can't, I can't. It's the only thing that I can do that will make me a better person, a better man. It's the only thing that I can do that will make me a better person, a better man. It's the only thing that I can do that will make me a better person, a better man. It's the only thing that I can do that will make me a better person, a better man. It's the only thing that I can do that will make me a better person, a better man. It's the only thing that I can do that will make me a better person, a better man. It's the only thing that I can do that will make me a better person, a better man. It's the only thing that I can do that will make me a better person, a better man. It's the only thing that I can do that will make me a better person, a better man.\n",
            "\n",
            " -------//------ \n",
            "\n"
          ]
        }
      ]
    },
    {
      "cell_type": "code",
      "source": [
        "res"
      ],
      "metadata": {
        "colab": {
          "base_uri": "https://localhost:8080/",
          "height": 268
        },
        "id": "QDQ7AEg3UyCL",
        "outputId": "e3b9722e-cdb3-4da3-8433-4d7e5f2d3118"
      },
      "execution_count": null,
      "outputs": [
        {
          "output_type": "execute_result",
          "data": {
            "text/plain": [
              "\"<|startoftext|>I love Deep Learning Deep Learning is the next big thing in computing. It will make us faster, it will make us smarter, it will make us smarter every day. It's the next big thing, it's the way that we make sense of the world. It's the only way that we can make sense of the world. Every single part of the world. It's the only thing that I can do, I can't, I can't, I can't. It's the only thing that I can do, I can't, I can't, I can't. It's the only thing that I can do that will make me a better person, a better man. It's the only thing that I can do that will make me a better person, a better man. It's the only thing that I can do that will make me a better person, a better man. It's the only thing that I can do that will make me a better person, a better man. It's the only thing that I can do that will make me a better person, a better man. It's the only thing that I can do that will make me a better person, a better man. It's the only thing that I can do that will make me a better person, a better man. It's the only thing that I can do that will make me a better person, a better man. It's the only thing that I can do that will make me a better person, a better man.\""
            ],
            "application/vnd.google.colaboratory.intrinsic+json": {
              "type": "string"
            }
          },
          "metadata": {},
          "execution_count": 9
        }
      ]
    },
    {
      "cell_type": "code",
      "source": [
        ""
      ],
      "metadata": {
        "id": "V3kvYAkVUyrT"
      },
      "execution_count": null,
      "outputs": []
    }
  ]
}